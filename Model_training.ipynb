{
 "cells": [
  {
   "cell_type": "code",
   "execution_count": null,
   "metadata": {
    "id": "-VbA0tRMLLrf"
   },
   "outputs": [],
   "source": [
    "from train import main_train\n",
    "from Utils.constants import DEVICE\n",
    "import json"
   ]
  },
  {
   "cell_type": "code",
   "execution_count": null,
   "metadata": {},
   "outputs": [],
   "source": [
    "with open('configs/config.json', 'r') as f:\n",
    "  config = json.load(f)"
   ]
  },
  {
   "cell_type": "code",
   "execution_count": null,
   "metadata": {
    "colab": {
     "base_uri": "https://localhost:8080/"
    },
    "id": "5PmrwICyLLrg",
    "outputId": "35fee4ea-50da-4398-8447-b3b0b6100d78"
   },
   "outputs": [],
   "source": [
    "main_train(device=DEVICE,\n",
    "           data_root_path=config[\"ROOT_DATASET\"],\n",
    "           continue_training=config[\"CONTINUE_TRAINING\"],\n",
    "           ckpt_dir_path=config[\"CHECKPOINT_DIR_PATH\"],\n",
    "           path_encoder_weights=config[\"MODEL_ENCODER_WEIGHTS_PATH\"],\n",
    "           path_decoder_weights=config[\"MODEL_DECODER_WEIGHTS_PATH\"]\n",
    "           )"
   ]
  },
  {
   "cell_type": "code",
   "execution_count": null,
   "metadata": {},
   "outputs": [],
   "source": []
  }
 ],
 "metadata": {
  "accelerator": "GPU",
  "colab": {
   "collapsed_sections": [],
   "name": "Model_training.ipynb",
   "provenance": []
  },
  "kernelspec": {
   "display_name": "Python 3",
   "language": "python",
   "name": "python3"
  },
  "language_info": {
   "codemirror_mode": {
    "name": "ipython",
    "version": 3
   },
   "file_extension": ".py",
   "mimetype": "text/x-python",
   "name": "python",
   "nbconvert_exporter": "python",
   "pygments_lexer": "ipython3",
   "version": "3.8.10"
  }
 },
 "nbformat": 4,
 "nbformat_minor": 1
}
