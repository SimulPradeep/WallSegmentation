{
 "cells": [
  {
   "cell_type": "code",
   "execution_count": 1,
   "metadata": {
    "executionInfo": {
     "elapsed": 1780,
     "status": "ok",
     "timestamp": 1612467983111,
     "user": {
      "displayName": "Ana Lazovic",
      "photoUrl": "",
      "userId": "05256186913734842649"
     },
     "user_tz": -60
    },
    "id": "W5o8jzdaH9ea"
   },
   "outputs": [],
   "source": [
    "# System libs\n",
    "import os, torch, PIL.Image, numpy, json\n",
    "\n",
    "# Our libs\n",
    "from Models.models import SegmentationModule, build_encoder, build_decoder\n",
    "from eval import eval_one_img, main_evaluate, segment_image\n",
    "from Utils.constants import DEVICE"
   ]
  },
  {
   "cell_type": "code",
   "execution_count": 2,
   "metadata": {},
   "outputs": [],
   "source": [
    "device = DEVICE\n",
    "with open('configs/config.json', 'r') as f:\n",
    "  config = json.load(f)"
   ]
  },
  {
   "cell_type": "code",
   "execution_count": 3,
   "metadata": {
    "colab": {
     "base_uri": "https://localhost:8080/"
    },
    "executionInfo": {
     "elapsed": 74914,
     "status": "ok",
     "timestamp": 1612468056256,
     "user": {
      "displayName": "Ana Lazovic",
      "photoUrl": "",
      "userId": "05256186913734842649"
     },
     "user_tz": -60
    },
    "id": "5nxhPO1DKxsH",
    "outputId": "30ad646e-fbf9-45b6-e913-f0abd41ad1df"
   },
   "outputs": [
    {
     "name": "stdout",
     "output_type": "stream",
     "text": [
      "Loading weights for net_encoder\n",
      "Loading weights for net_decoder\n",
      "Starting evaluation\n",
      "100 iteration: Average accuracy: 0.9070287397787822; Average IOU: 0.7229371875825288;\n"
     ]
    },
    {
     "ename": "KeyboardInterrupt",
     "evalue": "",
     "output_type": "error",
     "traceback": [
      "\u001b[1;31m---------------------------------------------------------------------------\u001b[0m",
      "\u001b[1;31mKeyboardInterrupt\u001b[0m                         Traceback (most recent call last)",
      "\u001b[1;32m~\\AppData\\Local\\Temp/ipykernel_2844/3971721748.py\u001b[0m in \u001b[0;36m<module>\u001b[1;34m\u001b[0m\n\u001b[0;32m      2\u001b[0m \u001b[0mencoder_weights\u001b[0m \u001b[1;33m=\u001b[0m \u001b[1;34m\"Model_weights/wall_encoder_epoch_20.pth\"\u001b[0m\u001b[1;33m\u001b[0m\u001b[1;33m\u001b[0m\u001b[0m\n\u001b[0;32m      3\u001b[0m \u001b[0mdecoder_weights\u001b[0m \u001b[1;33m=\u001b[0m \u001b[1;34m\"Model_weights/wall_decoder_epoch_20.pth\"\u001b[0m\u001b[1;33m\u001b[0m\u001b[1;33m\u001b[0m\u001b[0m\n\u001b[1;32m----> 4\u001b[1;33m \u001b[0mavg_acc1\u001b[0m\u001b[1;33m,\u001b[0m \u001b[0mavg_IOU1\u001b[0m\u001b[1;33m,\u001b[0m \u001b[0mmax_IOU_img1\u001b[0m\u001b[1;33m,\u001b[0m \u001b[0mmax_IOU1\u001b[0m \u001b[1;33m=\u001b[0m \u001b[0mmain_evaluate\u001b[0m\u001b[1;33m(\u001b[0m\u001b[0mencoder_weights\u001b[0m\u001b[1;33m,\u001b[0m \u001b[0mdecoder_weights\u001b[0m\u001b[1;33m,\u001b[0m \u001b[0mdevice\u001b[0m\u001b[1;33m=\u001b[0m\u001b[0mdevice\u001b[0m\u001b[1;33m)\u001b[0m\u001b[1;33m\u001b[0m\u001b[1;33m\u001b[0m\u001b[0m\n\u001b[0m",
      "\u001b[1;32mc:\\Private_repos\\WallSegmentation\\eval.py\u001b[0m in \u001b[0;36mmain_evaluate\u001b[1;34m(weights_encoder, weights_decoder, device)\u001b[0m\n\u001b[0;32m    126\u001b[0m \u001b[1;33m\u001b[0m\u001b[0m\n\u001b[0;32m    127\u001b[0m     \u001b[0mprint\u001b[0m\u001b[1;33m(\u001b[0m\u001b[1;34m'Starting evaluation'\u001b[0m\u001b[1;33m)\u001b[0m\u001b[1;33m\u001b[0m\u001b[1;33m\u001b[0m\u001b[0m\n\u001b[1;32m--> 128\u001b[1;33m     \u001b[0mavg_acc\u001b[0m\u001b[1;33m,\u001b[0m \u001b[0mavg_IOU\u001b[0m\u001b[1;33m,\u001b[0m \u001b[0mmax_IOU_img\u001b[0m\u001b[1;33m,\u001b[0m \u001b[0mmax_IOU\u001b[0m \u001b[1;33m=\u001b[0m \u001b[0mevaluate\u001b[0m\u001b[1;33m(\u001b[0m\u001b[0msegmentation_module\u001b[0m\u001b[1;33m,\u001b[0m \u001b[0mloader_val\u001b[0m\u001b[1;33m,\u001b[0m \u001b[0mdevice\u001b[0m\u001b[1;33m)\u001b[0m\u001b[1;33m\u001b[0m\u001b[1;33m\u001b[0m\u001b[0m\n\u001b[0m\u001b[0;32m    129\u001b[0m     \u001b[0mprint\u001b[0m\u001b[1;33m(\u001b[0m\u001b[1;34m'Evaluation Done!'\u001b[0m\u001b[1;33m)\u001b[0m\u001b[1;33m\u001b[0m\u001b[1;33m\u001b[0m\u001b[0m\n\u001b[0;32m    130\u001b[0m \u001b[1;33m\u001b[0m\u001b[0m\n",
      "\u001b[1;32mc:\\Private_repos\\WallSegmentation\\eval.py\u001b[0m in \u001b[0;36mevaluate\u001b[1;34m(segmentation_module, loader, device)\u001b[0m\n\u001b[0;32m     31\u001b[0m \u001b[1;33m\u001b[0m\u001b[0m\n\u001b[0;32m     32\u001b[0m         \u001b[0m_\u001b[0m\u001b[1;33m,\u001b[0m \u001b[0mpred\u001b[0m \u001b[1;33m=\u001b[0m \u001b[0mtorch\u001b[0m\u001b[1;33m.\u001b[0m\u001b[0mmax\u001b[0m\u001b[1;33m(\u001b[0m\u001b[0mscores\u001b[0m\u001b[1;33m,\u001b[0m \u001b[0mdim\u001b[0m\u001b[1;33m=\u001b[0m\u001b[1;36m1\u001b[0m\u001b[1;33m)\u001b[0m\u001b[1;33m\u001b[0m\u001b[1;33m\u001b[0m\u001b[0m\n\u001b[1;32m---> 33\u001b[1;33m         \u001b[0mpred\u001b[0m \u001b[1;33m=\u001b[0m \u001b[0mpred\u001b[0m\u001b[1;33m.\u001b[0m\u001b[0mcpu\u001b[0m\u001b[1;33m(\u001b[0m\u001b[1;33m)\u001b[0m\u001b[1;33m[\u001b[0m\u001b[1;36m0\u001b[0m\u001b[1;33m]\u001b[0m\u001b[1;33m.\u001b[0m\u001b[0mnumpy\u001b[0m\u001b[1;33m(\u001b[0m\u001b[1;33m)\u001b[0m\u001b[1;33m\u001b[0m\u001b[1;33m\u001b[0m\u001b[0m\n\u001b[0m\u001b[0;32m     34\u001b[0m \u001b[1;33m\u001b[0m\u001b[0m\n\u001b[0;32m     35\u001b[0m         \u001b[1;31m# calculate accuracy and IOU\u001b[0m\u001b[1;33m\u001b[0m\u001b[1;33m\u001b[0m\u001b[1;33m\u001b[0m\u001b[0m\n",
      "\u001b[1;31mKeyboardInterrupt\u001b[0m: "
     ]
    }
   ],
   "source": [
    "# First approach to model training\n",
    "encoder_weights = \"Model_weights/wall_encoder_epoch_20.pth\"\n",
    "decoder_weights = \"Model_weights/wall_decoder_epoch_20.pth\"\n",
    "avg_acc1, avg_IOU1, max_IOU_img1, max_IOU1 = main_evaluate(encoder_weights, decoder_weights, device=device)"
   ]
  },
  {
   "cell_type": "code",
   "execution_count": null,
   "metadata": {
    "colab": {
     "base_uri": "https://localhost:8080/"
    },
    "executionInfo": {
     "elapsed": 145779,
     "status": "ok",
     "timestamp": 1612468127141,
     "user": {
      "displayName": "Ana Lazovic",
      "photoUrl": "",
      "userId": "05256186913734842649"
     },
     "user_tz": -60
    },
    "id": "Y84eg0LsKx9o",
    "outputId": "e23b9d41-3d45-4a35-cd97-9f872bd2f196"
   },
   "outputs": [],
   "source": [
    "# Second approach to model training\n",
    "avg_acc2, avg_IOU2, max_IOU_img2, max_IOU2 = main_evaluate(\"DECODER\", device)"
   ]
  },
  {
   "cell_type": "code",
   "execution_count": null,
   "metadata": {
    "colab": {
     "base_uri": "https://localhost:8080/"
    },
    "executionInfo": {
     "elapsed": 216558,
     "status": "ok",
     "timestamp": 1612468197936,
     "user": {
      "displayName": "Ana Lazovic",
      "photoUrl": "",
      "userId": "05256186913734842649"
     },
     "user_tz": -60
    },
    "id": "Tb7n4g0JKyN6",
    "outputId": "e957aae1-5174-41cc-fa74-cafe7916504c"
   },
   "outputs": [],
   "source": [
    "# Third approach to model training\n",
    "avg_acc3, avg_IOU3, max_IOU_img3, max_IOU3 = main_evaluate(\"ONLY_LAST_LAYER\", device)"
   ]
  },
  {
   "cell_type": "code",
   "execution_count": null,
   "metadata": {
    "colab": {
     "base_uri": "https://localhost:8080/"
    },
    "executionInfo": {
     "elapsed": 220279,
     "status": "ok",
     "timestamp": 1612468201674,
     "user": {
      "displayName": "Ana Lazovic",
      "photoUrl": "",
      "userId": "05256186913734842649"
     },
     "user_tz": -60
    },
    "id": "LDDIKfa9mwy-",
    "outputId": "92dc12da-b934-4eb2-cbb8-cc4b47521d9e"
   },
   "outputs": [],
   "source": [
    "# # Network Builders\n",
    "# net_encoder1 = build_encoder(pretrained=False, train_only_wall=True)\n",
    "# net_decoder1 = build_decoder(pretrained=False, train_only_wall=True)\n",
    "\n",
    "# weights_encoder = 'Model_weights/Output_only_encoder.pth'\n",
    "# weights_decoder = 'Model_weights/Output_only_decoder.pth'\n",
    "    \n",
    "# net_encoder1.load_state_dict(torch.load(weights_encoder, map_location=lambda storage, loc: storage), strict=False)\n",
    "# net_decoder1.load_state_dict(torch.load(weights_decoder, map_location=lambda storage, loc: storage), strict=False)\n",
    "\n",
    "# segmentation_module1 = SegmentationModule(net_encoder1, net_decoder1)\n",
    "# segmentation_module1.eval()\n",
    "# segmentation_module1.cuda()\n",
    "\n",
    "# net_encoder2 = build_encoder(pretrained=False, train_only_wall=True)\n",
    "# net_decoder2 = build_decoder(pretrained=False, train_only_wall=True)\n",
    "\n",
    "# weights_encoder = 'Model_weights/transfer_encoder.pth'\n",
    "# weights_decoder = 'Model_weights/transfer_decoder.pth'\n",
    "\n",
    "# net_encoder2.load_state_dict(torch.load(weights_encoder, map_location=lambda storage, loc: storage), strict=False)\n",
    "# net_decoder2.load_state_dict(torch.load(weights_decoder, map_location=lambda storage, loc: storage), strict=False)\n",
    "\n",
    "# segmentation_module2 = SegmentationModule(net_encoder2, net_decoder2)\n",
    "# segmentation_module2.eval()\n",
    "# segmentation_module2.cuda()\n",
    "\n",
    "# net_encoder3 = build_encoder(pretrained=False, train_only_wall=True)\n",
    "# net_decoder3 = build_decoder(pretrained=False, train_only_wall=True)\n",
    "\n",
    "# weights_encoder = 'Model_weights/wall_encoder_epoch_20.pth'\n",
    "# weights_decoder = 'Model_weights/wall_decoder_epoch_20.pth'\n",
    "\n",
    "# net_encoder3.load_state_dict( torch.load(weights_encoder, map_location=lambda storage, loc: storage), strict=False)\n",
    "# net_decoder3.load_state_dict( torch.load(weights_decoder, map_location=lambda storage, loc: storage), strict=False)\n",
    "\n",
    "# segmentation_module3 = SegmentationModule(net_encoder3, net_decoder3)\n",
    "# segmentation_module3.eval()\n",
    "# segmentation_module3.cuda()\n",
    "# print('Models created!')"
   ]
  },
  {
   "cell_type": "code",
   "execution_count": null,
   "metadata": {
    "colab": {
     "base_uri": "https://localhost:8080/",
     "height": 1000,
     "output_embedded_package_id": "1tlRSIyP42S91otWHjbsUGhsw0C51i-do"
    },
    "executionInfo": {
     "elapsed": 3235,
     "status": "ok",
     "timestamp": 1612468226060,
     "user": {
      "displayName": "Ana Lazovic",
      "photoUrl": "",
      "userId": "05256186913734842649"
     },
     "user_tz": -60
    },
    "id": "wOLLgwYsHoRX",
    "outputId": "1814dc15-7dbd-4300-b443-b56bab2e9f2b"
   },
   "outputs": [],
   "source": [
    "# image_number = 161\n",
    "# print('First model')\n",
    "# _ = eval_one_img(segmentation_module1, device, 'data/', img_number=image_number)\n",
    "# print('Second model')\n",
    "# _ = eval_one_img(segmentation_module2, device, 'data/', img_number=image_number)\n",
    "# print('Third model')\n",
    "# _ = eval_one_img(segmentation_module3, device, 'data/', img_number=image_number)"
   ]
  },
  {
   "cell_type": "code",
   "execution_count": null,
   "metadata": {
    "executionInfo": {
     "elapsed": 223299,
     "status": "ok",
     "timestamp": 1612468204717,
     "user": {
      "displayName": "Ana Lazovic",
      "photoUrl": "",
      "userId": "05256186913734842649"
     },
     "user_tz": -60
    },
    "id": "OpLKFTTOPHcQ"
   },
   "outputs": [],
   "source": [
    "# # Testing the model on arbitrary image\n",
    "# image_path = 'path to the image' \n",
    "\n",
    "# img = PIL.Image.open(image_path).convert('RGB')\n",
    "# img_original = numpy.array(img)\n",
    "\n",
    "# print('First model')\n",
    "# segment_image(segmentation_module1, img)\n",
    "\n",
    "# print('Second model')\n",
    "# segment_image(segmentation_module2, img)\n",
    "\n",
    "# print('Third model')\n",
    "# segment_image(segmentation_module3, img)"
   ]
  }
 ],
 "metadata": {
  "accelerator": "GPU",
  "colab": {
   "collapsed_sections": [],
   "name": "Testing.ipynb",
   "provenance": []
  },
  "kernelspec": {
   "display_name": "Python 3",
   "language": "python",
   "name": "python3"
  },
  "language_info": {
   "codemirror_mode": {
    "name": "ipython",
    "version": 3
   },
   "file_extension": ".py",
   "mimetype": "text/x-python",
   "name": "python",
   "nbconvert_exporter": "python",
   "pygments_lexer": "ipython3",
   "version": "3.8.10"
  }
 },
 "nbformat": 4,
 "nbformat_minor": 1
}
