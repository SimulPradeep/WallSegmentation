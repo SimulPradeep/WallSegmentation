{
 "cells": [
  {
   "cell_type": "code",
   "execution_count": null,
   "metadata": {
    "id": "0rpEyQxkudgN"
   },
   "outputs": [],
   "source": [
    "import torch\n",
    "from Models.models import build_encoder, build_decoder\n",
    "from train import main_train_wall"
   ]
  },
  {
   "cell_type": "code",
   "execution_count": null,
   "metadata": {
    "colab": {
     "base_uri": "https://localhost:8080/"
    },
    "id": "IU2gynEUudgO",
    "outputId": "29d33e24-4ac2-40b2-fa82-9099931377f2"
   },
   "outputs": [
    {
     "name": "stdout",
     "output_type": "stream",
     "text": [
      "Number of different images: 6255\n",
      "Starting wall training:\n",
      "Epoch: [1][20/5000], Accuracy: 74.46, Loss: 0.559777\n",
      "Epoch: [1][40/5000], Accuracy: 74.71, Loss: 0.547764\n",
      "Epoch: [1][60/5000], Accuracy: 75.08, Loss: 0.542535\n",
      "Epoch: [1][80/5000], Accuracy: 75.85, Loss: 0.530034\n",
      "Epoch: [1][100/5000], Accuracy: 75.20, Loss: 0.535563\n"
     ]
    }
   ],
   "source": [
    "# Network Builders\n",
    "device = torch.device(\"cuda\" if torch.cuda.is_available() else \"cpu\")\n",
    "main_train_wall(device, train_all=True, train_decoder_all=False, last_epoch_trained=0)"
   ]
  }
 ],
 "metadata": {
  "accelerator": "GPU",
  "colab": {
   "collapsed_sections": [],
   "name": "Only_wall_training.ipynb",
   "provenance": []
  },
  "kernelspec": {
   "display_name": "Python 3",
   "language": "python",
   "name": "python3"
  },
  "language_info": {
   "codemirror_mode": {
    "name": "ipython",
    "version": 3
   },
   "file_extension": ".py",
   "mimetype": "text/x-python",
   "name": "python",
   "nbconvert_exporter": "python",
   "pygments_lexer": "ipython3",
   "version": "3.7.6"
  }
 },
 "nbformat": 4,
 "nbformat_minor": 1
}
